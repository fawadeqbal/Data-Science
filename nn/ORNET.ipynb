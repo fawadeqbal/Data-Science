{
  "nbformat": 4,
  "nbformat_minor": 0,
  "metadata": {
    "colab": {
      "provenance": [],
      "authorship_tag": "ABX9TyO4HPyf+Uc7xeXV+M+on9fL",
      "include_colab_link": true
    },
    "kernelspec": {
      "name": "python3",
      "display_name": "Python 3"
    },
    "language_info": {
      "name": "python"
    }
  },
  "cells": [
    {
      "cell_type": "markdown",
      "metadata": {
        "id": "view-in-github",
        "colab_type": "text"
      },
      "source": [
        "<a href=\"https://colab.research.google.com/github/fawadeqbal/Data-Science/blob/main/nn/ORNET.ipynb\" target=\"_parent\"><img src=\"https://colab.research.google.com/assets/colab-badge.svg\" alt=\"Open In Colab\"/></a>"
      ]
    },
    {
      "cell_type": "code",
      "execution_count": 12,
      "metadata": {
        "id": "V21diPD00iK4",
        "colab": {
          "base_uri": "https://localhost:8080/"
        },
        "outputId": "dc5207f9-4956-40ed-d916-5912e89507a4"
      },
      "outputs": [
        {
          "output_type": "stream",
          "name": "stdout",
          "text": [
            "Epoch 100, Loss: 0.2210\n",
            "Epoch 200, Loss: 0.1382\n",
            "Epoch 300, Loss: 0.0992\n",
            "Epoch 400, Loss: 0.0768\n",
            "Epoch 500, Loss: 0.0624\n",
            "Epoch 600, Loss: 0.0524\n",
            "Epoch 700, Loss: 0.0451\n",
            "Epoch 800, Loss: 0.0395\n",
            "Epoch 900, Loss: 0.0351\n",
            "Epoch 1000, Loss: 0.0316\n",
            "Predictions:\n",
            "[0.06857063621282578, 0.9728606939315796, 0.9726365208625793, 0.9999421834945679]\n",
            "Thresholded Outputs: [0.0, 1.0, 1.0, 1.0]\n"
          ]
        }
      ],
      "source": [
        "import torch\n",
        "import torch.nn as nn\n",
        "\n",
        "# Define the OR gate neural network\n",
        "class ORNet(nn.Module):\n",
        "    def __init__(self):\n",
        "        super(ORNet, self).__init__()\n",
        "        # A single layer with 2 inputs and 1 output\n",
        "        self.layer = nn.Linear(2, 1)  # Input size = 2, Output size = 1\n",
        "\n",
        "    def forward(self, x):\n",
        "        # Apply the layer and sigmoid activation\n",
        "        x = self.layer(x)\n",
        "        x = torch.sigmoid(x)  # Sigmoid activation to normalize output\n",
        "        return x\n",
        "\n",
        "# Training data: OR gate inputs and outputs\n",
        "inputs = torch.tensor([[0.0, 0.0], [0.0, 1.0], [1.0, 0.0], [1.0, 1.0]])  # Input pairs\n",
        "outputs = torch.tensor([[0.0], [1.0], [1.0], [1.0]])  # Expected outputs\n",
        "\n",
        "# Create the model\n",
        "model = ORNet()\n",
        "\n",
        "# Define loss function and optimizer\n",
        "loss_fn = nn.BCELoss()  # Binary Cross-Entropy Loss\n",
        "optimizer = torch.optim.SGD(model.parameters(), lr=0.3)\n",
        "\n",
        "# Train the model\n",
        "for epoch in range(1000):  # Train for 1000 epochs\n",
        "    # Forward pass\n",
        "    predictions = model(inputs)\n",
        "    loss = loss_fn(predictions, outputs)\n",
        "\n",
        "    # Backward pass\n",
        "    optimizer.zero_grad()\n",
        "    loss.backward()\n",
        "    optimizer.step()\n",
        "\n",
        "    # Print loss occasionally\n",
        "    if (epoch + 1) % 100 == 0:\n",
        "        print(f'Epoch {epoch+1}, Loss: {loss.item():.4f}')\n",
        "\n",
        "# Test the model\n",
        "test_inputs = inputs  # Using same inputs for testing\n",
        "with torch.no_grad():\n",
        "    test_outputs = model(test_inputs)\n",
        "    thresholded = (test_outputs >= 0.5).float()  # Apply threshold\n",
        "    print(\"Predictions:\")\n",
        "    print(test_outputs.squeeze().tolist())  # Raw predictions\n",
        "    print(\"Thresholded Outputs:\", thresholded.squeeze().tolist())  # Final binary results\n"
      ]
    },
    {
      "cell_type": "code",
      "source": [
        "from google.colab import drive\n",
        "drive.mount('/content/drive')"
      ],
      "metadata": {
        "id": "wbP52CE33A4w"
      },
      "execution_count": null,
      "outputs": []
    }
  ]
}