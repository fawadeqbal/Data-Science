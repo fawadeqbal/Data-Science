{
  "nbformat": 4,
  "nbformat_minor": 0,
  "metadata": {
    "colab": {
      "provenance": [],
      "authorship_tag": "ABX9TyPR9C6OPnGoaGReSBSKFSYu",
      "include_colab_link": true
    },
    "kernelspec": {
      "name": "python3",
      "display_name": "Python 3"
    },
    "language_info": {
      "name": "python"
    }
  },
  "cells": [
    {
      "cell_type": "markdown",
      "metadata": {
        "id": "view-in-github",
        "colab_type": "text"
      },
      "source": [
        "<a href=\"https://colab.research.google.com/github/fawadeqbal/Data-Science/blob/main/nn/ORNET.ipynb\" target=\"_parent\"><img src=\"https://colab.research.google.com/assets/colab-badge.svg\" alt=\"Open In Colab\"/></a>"
      ]
    },
    {
      "cell_type": "code",
      "execution_count": 1,
      "metadata": {
        "id": "V21diPD00iK4",
        "colab": {
          "base_uri": "https://localhost:8080/"
        },
        "outputId": "a9f08d8a-d4d4-452e-857f-80ac40b10b3f"
      },
      "outputs": [
        {
          "output_type": "stream",
          "name": "stdout",
          "text": [
            "Epoch 100, Loss: 0.2291\n",
            "Epoch 200, Loss: 0.1418\n",
            "Epoch 300, Loss: 0.1012\n",
            "Epoch 400, Loss: 0.0780\n",
            "Epoch 500, Loss: 0.0632\n",
            "Epoch 600, Loss: 0.0530\n",
            "Epoch 700, Loss: 0.0455\n",
            "Epoch 800, Loss: 0.0398\n",
            "Epoch 900, Loss: 0.0354\n",
            "Epoch 1000, Loss: 0.0318\n",
            "Predictions:\n",
            "[0.06903953850269318, 0.9725313186645508, 0.9725961685180664, 0.9999409914016724]\n",
            "Thresholded Outputs: [0.0, 1.0, 1.0, 1.0]\n"
          ]
        }
      ],
      "source": [
        "import torch\n",
        "import torch.nn as nn\n",
        "\n",
        "# Define the OR gate neural network\n",
        "class ORNet(nn.Module):\n",
        "    def __init__(self):\n",
        "        super(ORNet, self).__init__()\n",
        "        # A single layer with 2 inputs and 1 output\n",
        "        self.layer = nn.Linear(2, 1)  # Input size = 2, Output size = 1\n",
        "\n",
        "    def forward(self, x):\n",
        "        # Apply the layer and sigmoid activation\n",
        "        x = self.layer(x)\n",
        "        x = torch.sigmoid(x)  # Sigmoid activation to normalize output\n",
        "        return x\n",
        "\n",
        "# Training data: OR gate inputs and outputs\n",
        "inputs = torch.tensor([[0.0, 0.0], [0.0, 1.0], [1.0, 0.0], [1.0, 1.0]])  # Input pairs\n",
        "outputs = torch.tensor([[0.0], [1.0], [1.0], [1.0]])  # Expected outputs\n",
        "\n",
        "# Create the model\n",
        "model = ORNet()\n",
        "\n",
        "# Define loss function and optimizer\n",
        "loss_fn = nn.BCELoss()  # Binary Cross-Entropy Loss\n",
        "optimizer = torch.optim.SGD(model.parameters(), lr=0.3)\n",
        "\n",
        "# Train the model\n",
        "for epoch in range(1000):  # Train for 1000 epochs\n",
        "    # Forward pass\n",
        "    predictions = model(inputs)\n",
        "    loss = loss_fn(predictions, outputs)\n",
        "\n",
        "    # Backward pass\n",
        "    optimizer.zero_grad()\n",
        "    loss.backward()\n",
        "    optimizer.step()\n",
        "\n",
        "    # Print loss occasionally\n",
        "    if (epoch + 1) % 100 == 0:\n",
        "        print(f'Epoch {epoch+1}, Loss: {loss.item():.4f}')\n",
        "\n",
        "# Test the model\n",
        "test_inputs = inputs  # Using same inputs for testing\n",
        "with torch.no_grad():\n",
        "    test_outputs = model(test_inputs)\n",
        "    thresholded = (test_outputs >= 0.5).float()  # Apply threshold\n",
        "    print(\"Predictions:\")\n",
        "    print(test_outputs.squeeze().tolist())  # Raw predictions\n",
        "    print(\"Thresholded Outputs:\", thresholded.squeeze().tolist())  # Final binary results\n"
      ]
    }
  ]
}